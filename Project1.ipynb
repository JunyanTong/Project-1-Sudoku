{
 "cells": [
  {
   "cell_type": "code",
   "execution_count": 8,
   "metadata": {},
   "outputs": [
    {
     "name": "stdout",
     "output_type": "stream",
     "text": [
      "['.ipynb_checkpoints', 'input', 'Untitled.ipynb']\n"
     ]
    }
   ],
   "source": [
    "import numpy as np # linear algebra\n",
    "import pandas as pd # data processing, CSV file I/O (e.g. pd.read_csv)\n",
    "import scipy.sparse as scs # sparse matrix construction \n",
    "import scipy.linalg as scl # linear algebra algorithms\n",
    "import scipy.optimize as sco # for minimization use\n",
    "import matplotlib.pylab as plt # for visualization\n",
    "\n",
    "\n",
    "# Input data files are available in the \"../input/\" directory.\n",
    "# For example, running this (by clicking run or pressing Shift+Enter) will list the files in the input directory\n",
    "\n",
    "import os\n",
    "path = os.getcwd()\n",
    "print(os.listdir(path))\n",
    "\n",
    "# Any results you write to the current directory are saved as output."
   ]
  },
  {
   "cell_type": "code",
   "execution_count": 9,
   "metadata": {},
   "outputs": [
    {
     "name": "stdout",
     "output_type": "stream",
     "text": [
      "data set legnth: 24\n",
      "0    0800320017030800025000070300500019706007090080...\n",
      "1    0000090070600008007890623504306005900905080200...\n",
      "2    9004010070475080000107004080021000033090002064...\n",
      "3    1000002030780264013401070000500028060800000106...\n",
      "4    6002004000150000200241000031020903050305010605...\n",
      "Name: quizzes, dtype: object\n",
      "0    4895327617134865925629178342583419766317592489...\n",
      "1    3518492672647538197891623544326715986975384215...\n",
      "2    9284615376475381295137924688721569433598472164...\n",
      "3    1654982739783264513421576984579128362896437156...\n",
      "4    6732854918159347269241765831628973454385219675...\n",
      "Name: solutions, dtype: object\n"
     ]
    }
   ],
   "source": [
    "data = pd.read_csv(\"C:/Users/Junya/Desktop/Math110B/Project1/input/small1.csv\") \n",
    "print('data set legnth:', len(data))\n",
    "\n",
    "# enumerate the first 5 data strings in quizzes\n",
    "print(data[\"quizzes\"][0:5])\n",
    "\n",
    "# enumerate the first 5 corresponding solution strings.\n",
    "print(data[\"solutions\"][0:5])\n"
   ]
  },
  {
   "cell_type": "code",
   "execution_count": 10,
   "metadata": {},
   "outputs": [
    {
     "name": "stdout",
     "output_type": "stream",
     "text": [
      "004029000000006703000000050100700036900000008380004002050000000603200000000310200 \n",
      "data type is: <class 'str'>\n"
     ]
    },
    {
     "data": {
      "text/plain": [
       "array([[0, 0, 4, 0, 2, 9, 0, 0, 0],\n",
       "       [0, 0, 0, 0, 0, 6, 7, 0, 3],\n",
       "       [0, 0, 0, 0, 0, 0, 0, 5, 0],\n",
       "       [1, 0, 0, 7, 0, 0, 0, 3, 6],\n",
       "       [9, 0, 0, 0, 0, 0, 0, 0, 8],\n",
       "       [3, 8, 0, 0, 0, 4, 0, 0, 2],\n",
       "       [0, 5, 0, 0, 0, 0, 0, 0, 0],\n",
       "       [6, 0, 3, 2, 0, 0, 0, 0, 0],\n",
       "       [0, 0, 0, 3, 1, 0, 2, 0, 0]])"
      ]
     },
     "execution_count": 10,
     "metadata": {},
     "output_type": "execute_result"
    }
   ],
   "source": [
    "# Take a close look at one string in quizzes\n",
    "\n",
    "quiz = data[\"quizzes\"][9]\n",
    "print(quiz, '\\ndata type is:', type(quiz))\n",
    "\n",
    "# we can turn it into a numpy array by the following\n",
    "np.reshape([int(c) for c in quiz], (9,9))"
   ]
  },
  {
   "cell_type": "code",
   "execution_count": 11,
   "metadata": {},
   "outputs": [],
   "source": [
    "def fixed_constraints(N=9):\n",
    "    rowC = np.zeros(N)\n",
    "    rowC[0] =1\n",
    "    rowR = np.zeros(N)\n",
    "    rowR[0] =1\n",
    "    row = scl.toeplitz(rowC, rowR)\n",
    "    ROW = np.kron(row, np.kron(np.ones((1,N)), np.eye(N)))\n",
    "    \n",
    "    colR = np.kron(np.ones((1,N)), rowC)\n",
    "    col  = scl.toeplitz(rowC, colR)\n",
    "    COL  = np.kron(col, np.eye(N))\n",
    "    \n",
    "    M = int(np.sqrt(N))\n",
    "    boxC = np.zeros(M)\n",
    "    boxC[0]=1\n",
    "    boxR = np.kron(np.ones((1, M)), boxC) \n",
    "    box = scl.toeplitz(boxC, boxR)\n",
    "    box = np.kron(np.eye(M), box)\n",
    "    BOX = np.kron(box, np.block([np.eye(N), np.eye(N) ,np.eye(N)]))\n",
    "    \n",
    "    cell = np.eye(N**2)\n",
    "    CELL = np.kron(cell, np.ones((1,N)))\n",
    "    \n",
    "    return scs.csr_matrix(np.block([[ROW],[COL],[BOX],[CELL]]))"
   ]
  },
  {
   "cell_type": "code",
   "execution_count": 12,
   "metadata": {},
   "outputs": [],
   "source": [
    "A0 = fixed_constraints()"
   ]
  },
  {
   "cell_type": "code",
   "execution_count": 14,
   "metadata": {},
   "outputs": [],
   "source": [
    "# For the constraint from clues, we extract the nonzeros from the quiz string.\n",
    "def clue_constraint(input_quiz, N=9):\n",
    "    m = np.reshape([int(c) for c in input_quiz], (N,N))\n",
    "    r, c = np.where(m.T)\n",
    "    v = np.array([m[c[d],r[d]] for d in range(len(r))])\n",
    "    \n",
    "    table = N * c + r\n",
    "    table = np.block([[table],[v-1]])\n",
    "    \n",
    "    # it is faster to use lil_matrix when changing the sparse structure.\n",
    "    CLUE = scs.lil_matrix((len(table.T), N**3))\n",
    "    for i in range(len(table.T)):\n",
    "        CLUE[i,table[0,i]*N + table[1,i]] = 1\n",
    "    # change back to csr_matrix.\n",
    "    CLUE = CLUE.tocsr() \n",
    "    \n",
    "    return CLUE"
   ]
  },
  {
   "cell_type": "code",
   "execution_count": 16,
   "metadata": {},
   "outputs": [],
   "source": [
    "# get the constraint matrix from clue.\n",
    "A1 = clue_constraint(quiz)\n",
    "\n",
    "# Formulate the matrix A and vector B (B is all ones).\n",
    "A = scs.vstack((A0,A1))\n",
    "B = np.ones((np.size(A, 0)))\n"
   ]
  },
  {
   "cell_type": "code",
   "execution_count": 19,
   "metadata": {},
   "outputs": [
    {
     "name": "stdout",
     "output_type": "stream",
     "text": [
      "Requirement already satisfied: cvxopt in c:\\users\\junya\\anaconda3\\lib\\site-packages (1.2.6)Note: you may need to restart the kernel to use updated packages.\n",
      "\n"
     ]
    }
   ],
   "source": [
    "pip install cvxopt\n"
   ]
  },
  {
   "cell_type": "code",
   "execution_count": 20,
   "metadata": {},
   "outputs": [
    {
     "name": "stdout",
     "output_type": "stream",
     "text": [
      "Aver Time:   1.51 secs. Success rate: 5 / 5 \n",
      "Aver Time:   1.35 secs. Success rate: 10 / 10 \n",
      "Aver Time:   1.35 secs. Success rate: 15 / 15 \n",
      "Aver Time:   1.32 secs. Success rate: 20 / 20 \n",
      "Aver Time:   1.29 secs. Success rate: 24 / 24 \n"
     ]
    }
   ],
   "source": [
    "from cvxopt import solvers, matrix\n",
    "import time\n",
    "solvers.options['show_progress'] = False\n",
    "\n",
    "# We test the following algoritm on small data set.\n",
    "data = pd.read_csv(\"C:/Users/Junya/Desktop/Math110B/Project1/input/small1.csv\") \n",
    "\n",
    "corr_cnt = 0\n",
    "start = time.time()\n",
    "for i in range(len(data)):\n",
    "    quiz = data[\"quizzes\"][i]\n",
    "    solu = data[\"solutions\"][i]\n",
    "    A0 = fixed_constraints()\n",
    "    A1 = clue_constraint(quiz)\n",
    "\n",
    "    # Formulate the matrix A and vector B (B is all ones).\n",
    "    A = scs.vstack((A0,A1))\n",
    "    A = A.toarray()\n",
    "    B = np.ones(A.shape[0])\n",
    "\n",
    "\n",
    "    # Because rank defficiency. We need to extract effective rank.\n",
    "    u, s, vh = np.linalg.svd(A, full_matrices=False)\n",
    "    K = np.sum(s > 1e-12)\n",
    "    S_ = np.block([np.diag(s[:K]), np.zeros((K, A.shape[0]-K))])\n",
    "    A = S_@vh\n",
    "    B = u.T@B\n",
    "    B = B[:K]\n",
    "\n",
    "    c = matrix(np.block([ np.ones(A.shape[1]), np.ones(A.shape[1]) ]))\n",
    "    G = matrix(np.block([[-np.eye(A.shape[1]), np.zeros((A.shape[1], A.shape[1]))],\\\n",
    "                         [np.zeros((A.shape[1], A.shape[1])), -np.eye(A.shape[1])]]))\n",
    "    h = matrix(np.zeros(A.shape[1]*2))\n",
    "    H = matrix(np.block([A, -A]))\n",
    "    b = matrix(B)\n",
    "\n",
    "    sol = solvers.lp(c,G,h,H,b)\n",
    "\n",
    "    # postprocessing the solution\n",
    "    X = np.array(sol['x']).T[0]\n",
    "    x = X[:A.shape[1]] - X[A.shape[1]:]\n",
    "    \n",
    "    # map to board\n",
    "    z = np.reshape(x, (81, 9))\n",
    "    if np.linalg.norm(np.reshape(np.array([np.argmax(d)+1 for d in z]), (9,9) ) \\\n",
    "                      - np.reshape([int(c) for c in solu], (9,9)), np.inf) >0:\n",
    "        pass\n",
    "    else:\n",
    "        #print(\"CORRECT\")\n",
    "        corr_cnt += 1\n",
    "    \n",
    "    if (i+1) % 5 == 0:\n",
    "        end = time.time()\n",
    "        print(\"Aver Time: {t:6.2f} secs. Success rate: {corr} / {all} \".format(t=(end-start)/(i+1), corr=corr_cnt, all=i+1) )\n",
    "\n",
    "end = time.time()\n",
    "print(\"Aver Time: {t:6.2f} secs. Success rate: {corr} / {all} \".format(t=(end-start)/(i+1), corr=corr_cnt, all=i+1) )"
   ]
  },
  {
   "cell_type": "code",
   "execution_count": 21,
   "metadata": {},
   "outputs": [
    {
     "name": "stdout",
     "output_type": "stream",
     "text": [
      "Aver Time:   1.35 secs. Success rate: 5 / 5 \n",
      "Aver Time:   1.39 secs. Success rate: 9 / 10 \n",
      "Aver Time:   1.36 secs. Success rate: 14 / 15 \n",
      "Aver Time:   1.37 secs. Success rate: 19 / 20 \n",
      "Aver Time:   1.37 secs. Success rate: 24 / 25 \n",
      "Aver Time:   1.40 secs. Success rate: 29 / 30 \n",
      "Aver Time:   1.40 secs. Success rate: 34 / 35 \n",
      "Aver Time:   1.39 secs. Success rate: 39 / 40 \n",
      "Aver Time:   1.39 secs. Success rate: 44 / 45 \n",
      "Aver Time:   1.38 secs. Success rate: 49 / 50 \n",
      "Aver Time:   1.38 secs. Success rate: 54 / 55 \n",
      "Aver Time:   1.38 secs. Success rate: 59 / 60 \n",
      "Aver Time:   1.38 secs. Success rate: 64 / 65 \n",
      "Aver Time:   1.38 secs. Success rate: 68 / 70 \n",
      "Aver Time:   1.38 secs. Success rate: 73 / 75 \n",
      "Aver Time:   1.38 secs. Success rate: 78 / 80 \n",
      "Aver Time:   1.38 secs. Success rate: 83 / 85 \n",
      "Aver Time:   1.38 secs. Success rate: 88 / 90 \n",
      "Aver Time:   1.38 secs. Success rate: 92 / 95 \n",
      "Aver Time:   1.39 secs. Success rate: 97 / 100 \n",
      "Aver Time:   1.39 secs. Success rate: 102 / 105 \n",
      "Aver Time:   1.39 secs. Success rate: 107 / 110 \n",
      "Aver Time:   1.39 secs. Success rate: 112 / 115 \n",
      "Aver Time:   1.40 secs. Success rate: 116 / 120 \n",
      "Aver Time:   1.40 secs. Success rate: 121 / 125 \n",
      "Aver Time:   1.39 secs. Success rate: 126 / 130 \n",
      "Aver Time:   1.39 secs. Success rate: 130 / 135 \n",
      "Aver Time:   1.38 secs. Success rate: 135 / 140 \n",
      "Aver Time:   1.38 secs. Success rate: 140 / 145 \n",
      "Aver Time:   1.38 secs. Success rate: 144 / 150 \n",
      "Aver Time:   1.37 secs. Success rate: 149 / 155 \n",
      "Aver Time:   1.37 secs. Success rate: 153 / 160 \n",
      "Aver Time:   1.37 secs. Success rate: 158 / 165 \n",
      "Aver Time:   1.37 secs. Success rate: 163 / 170 \n",
      "Aver Time:   1.36 secs. Success rate: 166 / 175 \n",
      "Aver Time:   1.37 secs. Success rate: 171 / 180 \n",
      "Aver Time:   1.37 secs. Success rate: 175 / 185 \n",
      "Aver Time:   1.37 secs. Success rate: 180 / 190 \n",
      "Aver Time:   1.37 secs. Success rate: 185 / 195 \n",
      "Aver Time:   1.37 secs. Success rate: 190 / 200 \n",
      "Aver Time:   1.36 secs. Success rate: 194 / 205 \n",
      "Aver Time:   1.36 secs. Success rate: 199 / 210 \n",
      "Aver Time:   1.36 secs. Success rate: 202 / 215 \n",
      "Aver Time:   1.36 secs. Success rate: 207 / 220 \n",
      "Aver Time:   1.36 secs. Success rate: 212 / 225 \n"
     ]
    },
    {
     "ename": "KeyboardInterrupt",
     "evalue": "",
     "output_type": "error",
     "traceback": [
      "\u001b[1;31m---------------------------------------------------------------------------\u001b[0m",
      "\u001b[1;31mKeyboardInterrupt\u001b[0m                         Traceback (most recent call last)",
      "\u001b[1;32m<ipython-input-21-3dd246478f12>\u001b[0m in \u001b[0;36m<module>\u001b[1;34m\u001b[0m\n\u001b[0;32m     30\u001b[0m     \u001b[0mb\u001b[0m \u001b[1;33m=\u001b[0m \u001b[0mmatrix\u001b[0m\u001b[1;33m(\u001b[0m\u001b[0mB\u001b[0m\u001b[1;33m)\u001b[0m\u001b[1;33m\u001b[0m\u001b[1;33m\u001b[0m\u001b[0m\n\u001b[0;32m     31\u001b[0m \u001b[1;33m\u001b[0m\u001b[0m\n\u001b[1;32m---> 32\u001b[1;33m     \u001b[0msol\u001b[0m \u001b[1;33m=\u001b[0m \u001b[0msolvers\u001b[0m\u001b[1;33m.\u001b[0m\u001b[0mlp\u001b[0m\u001b[1;33m(\u001b[0m\u001b[0mc\u001b[0m\u001b[1;33m,\u001b[0m\u001b[0mG\u001b[0m\u001b[1;33m,\u001b[0m\u001b[0mh\u001b[0m\u001b[1;33m,\u001b[0m\u001b[0mH\u001b[0m\u001b[1;33m,\u001b[0m\u001b[0mb\u001b[0m\u001b[1;33m)\u001b[0m\u001b[1;33m\u001b[0m\u001b[1;33m\u001b[0m\u001b[0m\n\u001b[0m\u001b[0;32m     33\u001b[0m \u001b[1;33m\u001b[0m\u001b[0m\n\u001b[0;32m     34\u001b[0m     \u001b[1;31m# postprocessing the solution\u001b[0m\u001b[1;33m\u001b[0m\u001b[1;33m\u001b[0m\u001b[1;33m\u001b[0m\u001b[0m\n",
      "\u001b[1;32m~\\anaconda3\\lib\\site-packages\\cvxopt\\coneprog.py\u001b[0m in \u001b[0;36mlp\u001b[1;34m(c, G, h, A, b, kktsolver, solver, primalstart, dualstart, **kwargs)\u001b[0m\n\u001b[0;32m   3007\u001b[0m             'primal slack': pslack, 'dual slack': dslack}\n\u001b[0;32m   3008\u001b[0m \u001b[1;33m\u001b[0m\u001b[0m\n\u001b[1;32m-> 3009\u001b[1;33m     return conelp(c, G, h, {'l': m, 'q': [], 's': []}, A,  b, primalstart,\n\u001b[0m\u001b[0;32m   3010\u001b[0m         dualstart, kktsolver = kktsolver, options = options)\n\u001b[0;32m   3011\u001b[0m \u001b[1;33m\u001b[0m\u001b[0m\n",
      "\u001b[1;32m~\\anaconda3\\lib\\site-packages\\cvxopt\\coneprog.py\u001b[0m in \u001b[0;36mconelp\u001b[1;34m(c, G, h, dims, A, b, primalstart, dualstart, kktsolver, xnewcopy, xdot, xaxpy, xscal, ynewcopy, ydot, yaxpy, yscal, **kwargs)\u001b[0m\n\u001b[0;32m   1065\u001b[0m \u001b[1;33m\u001b[0m\u001b[0m\n\u001b[0;32m   1066\u001b[0m         \u001b[1;32mtry\u001b[0m\u001b[1;33m:\u001b[0m\u001b[1;33m\u001b[0m\u001b[1;33m\u001b[0m\u001b[0m\n\u001b[1;32m-> 1067\u001b[1;33m             \u001b[0mf3\u001b[0m \u001b[1;33m=\u001b[0m \u001b[0mkktsolver\u001b[0m\u001b[1;33m(\u001b[0m\u001b[0mW\u001b[0m\u001b[1;33m)\u001b[0m\u001b[1;33m\u001b[0m\u001b[1;33m\u001b[0m\u001b[0m\n\u001b[0m\u001b[0;32m   1068\u001b[0m             \u001b[1;32mif\u001b[0m \u001b[0miters\u001b[0m \u001b[1;33m==\u001b[0m \u001b[1;36m0\u001b[0m\u001b[1;33m:\u001b[0m\u001b[1;33m\u001b[0m\u001b[1;33m\u001b[0m\u001b[0m\n\u001b[0;32m   1069\u001b[0m                 \u001b[0mx1\u001b[0m\u001b[1;33m,\u001b[0m \u001b[0my1\u001b[0m \u001b[1;33m=\u001b[0m \u001b[0mxnewcopy\u001b[0m\u001b[1;33m(\u001b[0m\u001b[0mc\u001b[0m\u001b[1;33m)\u001b[0m\u001b[1;33m,\u001b[0m \u001b[0mynewcopy\u001b[0m\u001b[1;33m(\u001b[0m\u001b[0mb\u001b[0m\u001b[1;33m)\u001b[0m\u001b[1;33m\u001b[0m\u001b[1;33m\u001b[0m\u001b[0m\n",
      "\u001b[1;32m~\\anaconda3\\lib\\site-packages\\cvxopt\\coneprog.py\u001b[0m in \u001b[0;36mkktsolver\u001b[1;34m(W)\u001b[0m\n\u001b[0;32m    583\u001b[0m             \u001b[0mfactor\u001b[0m \u001b[1;33m=\u001b[0m \u001b[0mmisc\u001b[0m\u001b[1;33m.\u001b[0m\u001b[0mkkt_chol2\u001b[0m\u001b[1;33m(\u001b[0m\u001b[0mG\u001b[0m\u001b[1;33m,\u001b[0m \u001b[0mdims\u001b[0m\u001b[1;33m,\u001b[0m \u001b[0mA\u001b[0m\u001b[1;33m)\u001b[0m\u001b[1;33m\u001b[0m\u001b[1;33m\u001b[0m\u001b[0m\n\u001b[0;32m    584\u001b[0m         \u001b[1;32mdef\u001b[0m \u001b[0mkktsolver\u001b[0m\u001b[1;33m(\u001b[0m\u001b[0mW\u001b[0m\u001b[1;33m)\u001b[0m\u001b[1;33m:\u001b[0m\u001b[1;33m\u001b[0m\u001b[1;33m\u001b[0m\u001b[0m\n\u001b[1;32m--> 585\u001b[1;33m             \u001b[1;32mreturn\u001b[0m \u001b[0mfactor\u001b[0m\u001b[1;33m(\u001b[0m\u001b[0mW\u001b[0m\u001b[1;33m)\u001b[0m\u001b[1;33m\u001b[0m\u001b[1;33m\u001b[0m\u001b[0m\n\u001b[0m\u001b[0;32m    586\u001b[0m \u001b[1;33m\u001b[0m\u001b[0m\n\u001b[0;32m    587\u001b[0m \u001b[1;33m\u001b[0m\u001b[0m\n",
      "\u001b[1;32m~\\anaconda3\\lib\\site-packages\\cvxopt\\misc.py\u001b[0m in \u001b[0;36mfactor\u001b[1;34m(W, H, Df)\u001b[0m\n\u001b[0;32m   1458\u001b[0m                     True) \n\u001b[0;32m   1459\u001b[0m             \u001b[1;32mif\u001b[0m \u001b[0mtype\u001b[0m\u001b[1;33m(\u001b[0m\u001b[0mF\u001b[0m\u001b[1;33m[\u001b[0m\u001b[1;34m'S'\u001b[0m\u001b[1;33m]\u001b[0m\u001b[1;33m)\u001b[0m \u001b[1;32mis\u001b[0m \u001b[0mmatrix\u001b[0m\u001b[1;33m:\u001b[0m\u001b[1;33m\u001b[0m\u001b[1;33m\u001b[0m\u001b[0m\n\u001b[1;32m-> 1460\u001b[1;33m                 \u001b[0mlapack\u001b[0m\u001b[1;33m.\u001b[0m\u001b[0mpotrf\u001b[0m\u001b[1;33m(\u001b[0m\u001b[0mF\u001b[0m\u001b[1;33m[\u001b[0m\u001b[1;34m'S'\u001b[0m\u001b[1;33m]\u001b[0m\u001b[1;33m)\u001b[0m\u001b[1;33m\u001b[0m\u001b[1;33m\u001b[0m\u001b[0m\n\u001b[0m\u001b[0;32m   1461\u001b[0m             \u001b[1;32melse\u001b[0m\u001b[1;33m:\u001b[0m\u001b[1;33m\u001b[0m\u001b[1;33m\u001b[0m\u001b[0m\n\u001b[0;32m   1462\u001b[0m                 \u001b[0mcholmod\u001b[0m\u001b[1;33m.\u001b[0m\u001b[0mnumeric\u001b[0m\u001b[1;33m(\u001b[0m\u001b[0mF\u001b[0m\u001b[1;33m[\u001b[0m\u001b[1;34m'S'\u001b[0m\u001b[1;33m]\u001b[0m\u001b[1;33m,\u001b[0m \u001b[0mF\u001b[0m\u001b[1;33m[\u001b[0m\u001b[1;34m'Sf'\u001b[0m\u001b[1;33m]\u001b[0m\u001b[1;33m)\u001b[0m\u001b[1;33m\u001b[0m\u001b[1;33m\u001b[0m\u001b[0m\n",
      "\u001b[1;31mKeyboardInterrupt\u001b[0m: "
     ]
    }
   ],
   "source": [
    "data = pd.read_csv(\"C:/Users/Junya/Desktop/Math110B/Project1/input/large1.csv\") \n",
    "\n",
    "corr_cnt = 0\n",
    "start = time.time()\n",
    "for i in range(len(data)):\n",
    "    quiz = data[\"quizzes\"][i]\n",
    "    solu = data[\"solutions\"][i]\n",
    "    A0 = fixed_constraints()\n",
    "    A1 = clue_constraint(quiz)\n",
    "\n",
    "    # Formulate the matrix A and vector B (B is all ones).\n",
    "    A = scs.vstack((A0,A1))\n",
    "    A = A.toarray()\n",
    "    B = np.ones(A.shape[0])\n",
    "\n",
    "\n",
    "    # Because rank defficiency. We need to extract effective rank.\n",
    "    u, s, vh = np.linalg.svd(A, full_matrices=False)\n",
    "    K = np.sum(s > 1e-12)\n",
    "    S_ = np.block([np.diag(s[:K]), np.zeros((K, A.shape[0]-K))])\n",
    "    A = S_@vh\n",
    "    B = u.T@B\n",
    "    B = B[:K]\n",
    "\n",
    "    c = matrix(np.block([ np.ones(A.shape[1]), np.ones(A.shape[1]) ]))\n",
    "    G = matrix(np.block([[-np.eye(A.shape[1]), np.zeros((A.shape[1], A.shape[1]))],\\\n",
    "                         [np.zeros((A.shape[1], A.shape[1])), -np.eye(A.shape[1])]]))\n",
    "    h = matrix(np.zeros(A.shape[1]*2))\n",
    "    H = matrix(np.block([A, -A]))\n",
    "    b = matrix(B)\n",
    "\n",
    "    sol = solvers.lp(c,G,h,H,b)\n",
    "\n",
    "    # postprocessing the solution\n",
    "    X = np.array(sol['x']).T[0]\n",
    "    x = X[:A.shape[1]] - X[A.shape[1]:]\n",
    "    \n",
    "    # map to board\n",
    "    z = np.reshape(x, (81, 9))\n",
    "    if np.linalg.norm(np.reshape(np.array([np.argmax(d)+1 for d in z]), (9,9) ) \\\n",
    "                      - np.reshape([int(c) for c in solu], (9,9)), np.inf) >0:\n",
    "        pass\n",
    "    else:\n",
    "        #print(\"CORRECT\")\n",
    "        corr_cnt += 1\n",
    "    \n",
    "    if (i+1) % 5 == 0:\n",
    "        end = time.time()\n",
    "        print(\"Aver Time: {t:6.2f} secs. Success rate: {corr} / {all} \".format(t=(end-start)/(i+1), corr=corr_cnt, all=i+1) )\n",
    "\n",
    "end = time.time()\n",
    "print(\"Aver Time: {t:6.2f} secs. Success rate: {corr} / {all} \".format(t=(end-start)/(i+1), corr=corr_cnt, all=i+1) )"
   ]
  },
  {
   "cell_type": "code",
   "execution_count": null,
   "metadata": {},
   "outputs": [],
   "source": []
  }
 ],
 "metadata": {
  "kernelspec": {
   "display_name": "Python 3",
   "language": "python",
   "name": "python3"
  },
  "language_info": {
   "codemirror_mode": {
    "name": "ipython",
    "version": 3
   },
   "file_extension": ".py",
   "mimetype": "text/x-python",
   "name": "python",
   "nbconvert_exporter": "python",
   "pygments_lexer": "ipython3",
   "version": "3.8.5"
  }
 },
 "nbformat": 4,
 "nbformat_minor": 4
}
